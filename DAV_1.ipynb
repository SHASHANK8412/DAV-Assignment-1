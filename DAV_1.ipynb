{
  "nbformat": 4,
  "nbformat_minor": 0,
  "metadata": {
    "colab": {
      "provenance": [],
      "toc_visible": true,
      "authorship_tag": "ABX9TyMXKUAfgn0HIcBEem5L1Buy",
      "include_colab_link": true
    },
    "kernelspec": {
      "name": "python3",
      "display_name": "Python 3"
    },
    "language_info": {
      "name": "python"
    }
  },
  "cells": [
    {
      "cell_type": "markdown",
      "metadata": {
        "id": "view-in-github",
        "colab_type": "text"
      },
      "source": [
        "<a href=\"https://colab.research.google.com/github/SHASHANK8412/DAV-Assignment-1/blob/main/DAV_1.ipynb\" target=\"_parent\"><img src=\"https://colab.research.google.com/assets/colab-badge.svg\" alt=\"Open In Colab\"/></a>"
      ]
    },
    {
      "cell_type": "markdown",
      "source": [
        "Import Statements\n"
      ],
      "metadata": {
        "id": "G0i08LyTwSwf"
      }
    },
    {
      "cell_type": "code",
      "source": [
        "import numpy as np\n",
        "import pandas as pd\n",
        "import matplotlib.pyplot as plt\n",
        "import seaborn as sns\n"
      ],
      "metadata": {
        "id": "dkmQrjciwVt6"
      },
      "execution_count": null,
      "outputs": []
    },
    {
      "cell_type": "markdown",
      "source": [
        "Importing the Dataset"
      ],
      "metadata": {
        "id": "Z1drDH8ywg-f"
      }
    },
    {
      "cell_type": "code",
      "source": [
        "#Data Loading\n",
        "df = pd.read_csv('combined_ipl_stats.csv')\n",
        "print(\"First 5 rows: \")\n",
        "print(df.head())\n",
        "\n"
      ],
      "metadata": {
        "colab": {
          "base_uri": "https://localhost:8080/"
        },
        "id": "naxmAnHkwmKL",
        "outputId": "7092c806-02c6-407a-ceec-c949e52d7fe0"
      },
      "execution_count": null,
      "outputs": [
        {
          "output_type": "stream",
          "name": "stdout",
          "text": [
            "First 5 rows: \n",
            "   POS              Player   Mat  Inns   NO   Runs    HS    Avg     BF  \\\n",
            "0  1.0    David Warner SRH  12.0  12.0  2.0  692.0  100*   69.2  481.0   \n",
            "1  2.0       KL Rahul PBKS  14.0  14.0  3.0  593.0  100*   53.9  438.0   \n",
            "2  3.0  Quinton de Kock MI  16.0  16.0  1.0  529.0    81  35.26  398.0   \n",
            "3  4.0   Shikhar Dhawan DC  16.0  16.0  1.0  521.0   97*  34.73  384.0   \n",
            "4  5.0   Andre Russell KKR  14.0  13.0  4.0  510.0   80*  56.66  249.0   \n",
            "\n",
            "       SR  100   50    4s    6s  Year  \n",
            "0  143.86  1.0  8.0  57.0  21.0  2019  \n",
            "1  135.38  1.0  6.0  49.0  25.0  2019  \n",
            "2  132.91  0.0  4.0  45.0  25.0  2019  \n",
            "3  135.67  0.0  5.0  64.0  11.0  2019  \n",
            "4  204.81  0.0  4.0  31.0  52.0  2019  \n"
          ]
        }
      ]
    },
    {
      "cell_type": "markdown",
      "source": [
        "Data Information\n"
      ],
      "metadata": {
        "id": "d9Mzj_K6y8sL"
      }
    },
    {
      "cell_type": "code",
      "source": [
        "# Get general info about the dataset\n",
        "df.info()\n",
        "\n",
        "# Summary statistics for numerical columns\n",
        "df.describe()\n",
        "\n",
        "# Check column names\n",
        "df.columns\n"
      ],
      "metadata": {
        "colab": {
          "base_uri": "https://localhost:8080/"
        },
        "id": "k-0lkQ7szCPE",
        "outputId": "9e5d2ae3-7e14-455d-8db3-5c0cc0551d29"
      },
      "execution_count": null,
      "outputs": [
        {
          "output_type": "stream",
          "name": "stdout",
          "text": [
            "<class 'pandas.core.frame.DataFrame'>\n",
            "RangeIndex: 2341 entries, 0 to 2340\n",
            "Data columns (total 15 columns):\n",
            " #   Column  Non-Null Count  Dtype  \n",
            "---  ------  --------------  -----  \n",
            " 0   POS     2341 non-null   float64\n",
            " 1   Player  2341 non-null   object \n",
            " 2   Mat     2341 non-null   float64\n",
            " 3   Inns    2341 non-null   float64\n",
            " 4   NO      2341 non-null   float64\n",
            " 5   Runs    2341 non-null   float64\n",
            " 6   HS      2341 non-null   object \n",
            " 7   Avg     2341 non-null   object \n",
            " 8   BF      2341 non-null   float64\n",
            " 9   SR      2341 non-null   float64\n",
            " 10  100     2341 non-null   float64\n",
            " 11  50      2341 non-null   float64\n",
            " 12  4s      2341 non-null   float64\n",
            " 13  6s      2341 non-null   float64\n",
            " 14  Year    2341 non-null   int64  \n",
            "dtypes: float64(11), int64(1), object(3)\n",
            "memory usage: 274.5+ KB\n"
          ]
        },
        {
          "output_type": "execute_result",
          "data": {
            "text/plain": [
              "Index(['POS', 'Player', 'Mat', 'Inns', 'NO', 'Runs', 'HS', 'Avg', 'BF', 'SR',\n",
              "       '100', '50', '4s', '6s', 'Year'],\n",
              "      dtype='object')"
            ]
          },
          "metadata": {},
          "execution_count": 7
        }
      ]
    },
    {
      "cell_type": "markdown",
      "source": [
        "Check for Missing Values"
      ],
      "metadata": {
        "id": "wqB_CKez0b1V"
      }
    },
    {
      "cell_type": "code",
      "source": [
        "# Count missing values in each column\n",
        "df.isnull().sum()\n"
      ],
      "metadata": {
        "colab": {
          "base_uri": "https://localhost:8080/",
          "height": 554
        },
        "id": "2Ufj56iP0eZK",
        "outputId": "f79aa43d-81d0-44a8-f58e-2eba7a4232b7"
      },
      "execution_count": null,
      "outputs": [
        {
          "output_type": "execute_result",
          "data": {
            "text/plain": [
              "POS       0\n",
              "Player    0\n",
              "Mat       0\n",
              "Inns      0\n",
              "NO        0\n",
              "Runs      0\n",
              "HS        0\n",
              "Avg       0\n",
              "BF        0\n",
              "SR        0\n",
              "100       0\n",
              "50        0\n",
              "4s        0\n",
              "6s        0\n",
              "Year      0\n",
              "dtype: int64"
            ],
            "text/html": [
              "<div>\n",
              "<style scoped>\n",
              "    .dataframe tbody tr th:only-of-type {\n",
              "        vertical-align: middle;\n",
              "    }\n",
              "\n",
              "    .dataframe tbody tr th {\n",
              "        vertical-align: top;\n",
              "    }\n",
              "\n",
              "    .dataframe thead th {\n",
              "        text-align: right;\n",
              "    }\n",
              "</style>\n",
              "<table border=\"1\" class=\"dataframe\">\n",
              "  <thead>\n",
              "    <tr style=\"text-align: right;\">\n",
              "      <th></th>\n",
              "      <th>0</th>\n",
              "    </tr>\n",
              "  </thead>\n",
              "  <tbody>\n",
              "    <tr>\n",
              "      <th>POS</th>\n",
              "      <td>0</td>\n",
              "    </tr>\n",
              "    <tr>\n",
              "      <th>Player</th>\n",
              "      <td>0</td>\n",
              "    </tr>\n",
              "    <tr>\n",
              "      <th>Mat</th>\n",
              "      <td>0</td>\n",
              "    </tr>\n",
              "    <tr>\n",
              "      <th>Inns</th>\n",
              "      <td>0</td>\n",
              "    </tr>\n",
              "    <tr>\n",
              "      <th>NO</th>\n",
              "      <td>0</td>\n",
              "    </tr>\n",
              "    <tr>\n",
              "      <th>Runs</th>\n",
              "      <td>0</td>\n",
              "    </tr>\n",
              "    <tr>\n",
              "      <th>HS</th>\n",
              "      <td>0</td>\n",
              "    </tr>\n",
              "    <tr>\n",
              "      <th>Avg</th>\n",
              "      <td>0</td>\n",
              "    </tr>\n",
              "    <tr>\n",
              "      <th>BF</th>\n",
              "      <td>0</td>\n",
              "    </tr>\n",
              "    <tr>\n",
              "      <th>SR</th>\n",
              "      <td>0</td>\n",
              "    </tr>\n",
              "    <tr>\n",
              "      <th>100</th>\n",
              "      <td>0</td>\n",
              "    </tr>\n",
              "    <tr>\n",
              "      <th>50</th>\n",
              "      <td>0</td>\n",
              "    </tr>\n",
              "    <tr>\n",
              "      <th>4s</th>\n",
              "      <td>0</td>\n",
              "    </tr>\n",
              "    <tr>\n",
              "      <th>6s</th>\n",
              "      <td>0</td>\n",
              "    </tr>\n",
              "    <tr>\n",
              "      <th>Year</th>\n",
              "      <td>0</td>\n",
              "    </tr>\n",
              "  </tbody>\n",
              "</table>\n",
              "</div><br><label><b>dtype:</b> int64</label>"
            ]
          },
          "metadata": {},
          "execution_count": 8
        }
      ]
    },
    {
      "cell_type": "markdown",
      "source": [
        "Drop or Fill Missing Values"
      ],
      "metadata": {
        "id": "ERA9gtiH0lCh"
      }
    },
    {
      "cell_type": "code",
      "source": [
        "df.dropna(inplace=True)\n"
      ],
      "metadata": {
        "id": "imq0lAfp0rdg"
      },
      "execution_count": null,
      "outputs": []
    },
    {
      "cell_type": "code",
      "source": [
        "df.fillna(0, inplace=True)  # or use a specific value or method like ffill/bfill\n"
      ],
      "metadata": {
        "id": "wFDNbtEI0s98"
      },
      "execution_count": null,
      "outputs": []
    },
    {
      "cell_type": "markdown",
      "source": [
        "Check for Duplicates"
      ],
      "metadata": {
        "id": "ZvivN0Vy06So"
      }
    },
    {
      "cell_type": "code",
      "source": [
        "# Count duplicates\n",
        "df.duplicated().sum()\n",
        "\n",
        "# Remove duplicates\n",
        "df.drop_duplicates(inplace=True)\n"
      ],
      "metadata": {
        "id": "bOFOTmd607UK"
      },
      "execution_count": null,
      "outputs": []
    },
    {
      "cell_type": "markdown",
      "source": [
        "Basic Pandas Operations"
      ],
      "metadata": {
        "id": "JyasADSh19gz"
      }
    },
    {
      "cell_type": "markdown",
      "source": [],
      "metadata": {
        "id": "LpV5eCUK194m"
      }
    },
    {
      "cell_type": "code",
      "source": [
        "import pandas as pd\n",
        "import numpy as np\n",
        "\n",
        "# Shape of the dataset (rows, columns)\n",
        "print(df.shape)\n",
        "\n",
        "# Column-wise data types\n",
        "print(df.dtypes)\n",
        "\n",
        "# Top 10 Players by Runs\n",
        "print(\"\\n🔹 Top 10 run scorers:\")\n",
        "print(df[['Player', 'Runs']].sort_values(by='Runs', ascending=False).head(10))\n",
        "\n"
      ],
      "metadata": {
        "colab": {
          "base_uri": "https://localhost:8080/"
        },
        "id": "Wy7j9fsv1-jX",
        "outputId": "1617dd85-8f77-4753-960d-efe012d47930"
      },
      "execution_count": null,
      "outputs": [
        {
          "output_type": "stream",
          "name": "stdout",
          "text": [
            "(2341, 15)\n",
            "POS       float64\n",
            "Player     object\n",
            "Mat       float64\n",
            "Inns      float64\n",
            "NO        float64\n",
            "Runs      float64\n",
            "HS         object\n",
            "Avg        object\n",
            "BF        float64\n",
            "SR        float64\n",
            "100       float64\n",
            "50        float64\n",
            "4s        float64\n",
            "6s        float64\n",
            "Year        int64\n",
            "dtype: object\n",
            "\n",
            "🔹 Top 10 run scorers:\n",
            "                   Player   Runs\n",
            "2062      Virat Kohli RCB  973.0\n",
            "844       Shubman Gill GT  890.0\n",
            "1010       Jos Buttler RR  863.0\n",
            "2063     David Warner SRH  848.0\n",
            "144   Kane Williamson SRH  735.0\n",
            "1172   Michael Hussey CSK  733.0\n",
            "1330      Chris Gayle RCB  733.0\n",
            "845    Faf Du Plessis RCB  730.0\n",
            "1173      Chris Gayle RCB  708.0\n",
            "0        David Warner SRH  692.0\n"
          ]
        }
      ]
    },
    {
      "cell_type": "markdown",
      "source": [
        "Numpy Operations\n"
      ],
      "metadata": {
        "id": "qLRNBw-05JF_"
      }
    },
    {
      "cell_type": "code",
      "source": [
        "# Step 1: Convert the 'Runs' column to a NumPy array\n",
        "runs_array = df['Runs'].to_numpy()\n",
        "\n",
        "# Step 2: Print the converted array (optional - for checking)\n",
        "print(\"\\n🔹 Runs Array:\\n\", runs_array)\n",
        "\n",
        "# Step 3: Perform NumPy statistical analysis on 'Runs'\n",
        "print(\"\\n🔹 NumPy analysis of 'Runs' column\")\n",
        "\n",
        "# Mean - average runs scored\n",
        "mean_runs = np.mean(runs_array)\n",
        "print(\" Mean (Average Runs):\", mean_runs)\n",
        "\n",
        "# Median - middle value in sorted runs\n",
        "median_runs = np.median(runs_array)\n",
        "print(\" Median (Middle Runs Value):\", median_runs)\n",
        "\n",
        "# Standard Deviation - how spread out the runs are\n",
        "std_dev_runs = np.std(runs_array)\n",
        "print(\" Standard Deviation (Spread of Runs):\", std_dev_runs)\n",
        "\n",
        "# Maximum Runs scored\n",
        "max_runs = np.max(runs_array)\n",
        "print(\" Maximum Runs Scored:\", max_runs)\n",
        "\n",
        "# Minimum Runs scored\n",
        "min_runs = np.min(runs_array)\n",
        "print(\" Minimum Runs Scored:\", min_runs)\n"
      ],
      "metadata": {
        "colab": {
          "base_uri": "https://localhost:8080/"
        },
        "id": "gDVlth9J5NUX",
        "outputId": "2ebfdd93-925f-48ad-bfc7-eb8c3e4b8cea"
      },
      "execution_count": null,
      "outputs": [
        {
          "output_type": "stream",
          "name": "stdout",
          "text": [
            "\n",
            "🔹 Runs Array:\n",
            " [692. 593. 529. ...   0.   0.   0.]\n",
            "\n",
            "🔹 NumPy analysis of 'Runs' column\n",
            " Mean (Average Runs): 129.3297736010252\n",
            " Median (Middle Runs Value): 54.0\n",
            " Standard Deviation (Spread of Runs): 156.97964755260838\n",
            " Maximum Runs Scored: 973.0\n",
            " Minimum Runs Scored: 0.0\n"
          ]
        }
      ]
    },
    {
      "cell_type": "markdown",
      "source": [
        "Pandas Operations"
      ],
      "metadata": {
        "id": "LQg_XFYS52Bg"
      }
    },
    {
      "cell_type": "code",
      "source": [
        "print(\"\\n🔹 Players who scored more than 500 runs:\")\n",
        "print(df[df['Runs'] > 500][['Player', 'Runs']])\n",
        "\n",
        "# 5. Sort players by Strike Rate (SR)\n",
        "print(\"\\n🔹 Top players sorted by Strike Rate:\")\n",
        "print(df.sort_values(by='SR', ascending=False)[['Player', 'SR']].head(10))\n",
        "\n",
        "# 6. Count of players per year (can be useful if multi-year data is present)\n",
        "print(\"\\n🔹 Player count per year:\")\n",
        "print(df['Year'].value_counts())"
      ],
      "metadata": {
        "colab": {
          "base_uri": "https://localhost:8080/"
        },
        "id": "I4_V2bEQ58zs",
        "outputId": "77e54564-0f2b-49de-edfd-e5a45a171ef0"
      },
      "execution_count": null,
      "outputs": [
        {
          "output_type": "stream",
          "name": "stdout",
          "text": [
            "\n",
            "🔹 Players who scored more than 500 runs:\n",
            "                  Player   Runs\n",
            "0       David Warner SRH  692.0\n",
            "1          KL Rahul PBKS  593.0\n",
            "2     Quinton de Kock MI  529.0\n",
            "3      Shikhar Dhawan DC  521.0\n",
            "4      Andre Russell KKR  510.0\n",
            "...                  ...    ...\n",
            "2063    David Warner SRH  848.0\n",
            "2064  AB de Villiers RCB  687.0\n",
            "2065  Gautam Gambhir KKR  501.0\n",
            "2066  Shikhar Dhawan SRH  501.0\n",
            "2198    David Warner SRH  641.0\n",
            "\n",
            "[73 rows x 2 columns]\n",
            "\n",
            "🔹 Top players sorted by Strike Rate:\n",
            "                      Player      SR\n",
            "1317        Raiphi Gomez PWI  400.00\n",
            "1155      Prerak Mankad PBKS  400.00\n",
            "1476       Syed Mohammad RCB  400.00\n",
            "2035          Abu Nechim RCB  400.00\n",
            "96          Ishant Sharma DC  333.33\n",
            "241       Shardul Thakur CSK  300.00\n",
            "97           KC Cariappa KKR  300.00\n",
            "1468      Bhargav Bhatt PBKS  300.00\n",
            "1435  Srikkanth Anirudha CSK  271.42\n",
            "2027        Dwayne Bravo CSK  266.66\n",
            "\n",
            "🔹 Player count per year:\n",
            "Year\n",
            "2023    166\n",
            "2022    162\n",
            "2011    161\n",
            "2013    158\n",
            "2012    157\n",
            "2010    153\n",
            "2008    150\n",
            "2021    149\n",
            "2019    144\n",
            "2017    143\n",
            "2018    138\n",
            "2016    136\n",
            "2020    133\n",
            "2014    132\n",
            "2009    130\n",
            "2015    129\n",
            "Name: count, dtype: int64\n"
          ]
        }
      ]
    },
    {
      "cell_type": "code",
      "source": [
        "# 1. Players who scored a century (100 or more)\n",
        "print(\"🔹 Players who scored centuries (100s >= 1):\")\n",
        "print(df[df['100'] >= 1][['Player', '100', 'Runs']])\n",
        "\n",
        "# 2. Players with 0 not-outs (NO)\n",
        "print(\"\\n🔹 Players who never remained not out:\")\n",
        "print(df[df['NO'] == 0][['Player', 'NO']])\n",
        "\n",
        "# 3. Top 5 players with highest batting average\n",
        "print(\"\\n🔹 Top 5 players by Batting Average:\")\n",
        "print(df.sort_values(by='Avg', ascending=False)[['Player', 'Avg']].head(5))\n",
        "\n",
        "# 4. Players who faced less than 200 balls but scored 300+ runs\n",
        "print(\"\\n🔹 Players with high efficiency (Runs >= 300 and BF < 200):\")\n",
        "print(df[(df['Runs'] >= 300) & (df['BF'] < 200)][['Player', 'Runs', 'BF', 'SR']])\n",
        "\n",
        "# 5. Group by Year and get average Strike Rate\n",
        "print(\"\\n🔹 Average Strike Rate by Year:\")\n",
        "print(df.groupby('Year')['SR'].mean())"
      ],
      "metadata": {
        "colab": {
          "base_uri": "https://localhost:8080/"
        },
        "id": "YSYfnlVm59bj",
        "outputId": "3f626f3f-33f4-484d-bed9-a280e1d0e69d"
      },
      "execution_count": null,
      "outputs": [
        {
          "output_type": "stream",
          "name": "stdout",
          "text": [
            "🔹 Players who scored centuries (100s >= 1):\n",
            "                  Player  100   Runs\n",
            "0       David Warner SRH  1.0  692.0\n",
            "1          KL Rahul PBKS  1.0  593.0\n",
            "7        Virat Kohli RCB  1.0  464.0\n",
            "9     Jonny Bairstow SRH  1.0  445.0\n",
            "18     Ajinkya Rahane RR  1.0  393.0\n",
            "...                  ...  ...    ...\n",
            "2083     Steve Smith RPS  1.0  270.0\n",
            "2198    David Warner SRH  1.0  641.0\n",
            "2203    Hashim Amla PBKS  2.0  420.0\n",
            "2208     Sanju Samson DC  1.0  386.0\n",
            "2218      Ben Stokes RPS  1.0  316.0\n",
            "\n",
            "[72 rows x 3 columns]\n",
            "\n",
            "🔹 Players who never remained not out:\n",
            "                  Player   NO\n",
            "7        Virat Kohli RCB  0.0\n",
            "13        Chris Lynn KKR  0.0\n",
            "16      Shane Watson CSK  0.0\n",
            "20     Parthiv Patel RCB  0.0\n",
            "21       Prithvi Shaw DC  0.0\n",
            "...                  ...  ...\n",
            "2334  Dhawal Kulkarni GL  0.0\n",
            "2335    Akshdeep Nath GL  0.0\n",
            "2336    Chris Jordan SRH  0.0\n",
            "2337      Munaf Patel GL  0.0\n",
            "2340  Shardul Thakur RPS  0.0\n",
            "\n",
            "[727 rows x 2 columns]\n",
            "\n",
            "🔹 Top 5 players by Batting Average:\n",
            "                      Player   Avg\n",
            "476        Simon Katich PBKS  96.0\n",
            "486          Arjun Yadav DEC   9.8\n",
            "634   Dimitri Mascarenhas RR  9.75\n",
            "492        Ricky Ponting KKR  9.75\n",
            "1266         Kevon Cooper RR  9.75\n",
            "\n",
            "🔹 Players with high efficiency (Runs >= 300 and BF < 200):\n",
            "                     Player   Runs     BF      SR\n",
            "163        Sunil Narine KKR  357.0  188.0  189.89\n",
            "165       Andre Russell KKR  316.0  171.0  184.79\n",
            "429   Kumar Sangakkara PBKS  320.0  198.0  161.61\n",
            "872      Ajinkya Rahane CSK  326.0  189.0  172.48\n",
            "873      Jitesh Sharma PBKS  309.0  198.0  156.06\n",
            "874        Vijay Shankar GT  301.0  188.0  160.10\n",
            "875      Shimron Hetmyer RR  300.0  197.0  152.28\n",
            "1033      Andre Russell KKR  335.0  192.0  174.47\n",
            "1035     Dinesh Karthik RCB  330.0  180.0  183.33\n",
            "1040      Glenn Maxwell RCB  301.0  178.0  169.10\n",
            "1354     AB de Villiers RCB  319.0  198.0  161.11\n",
            "1822      Andre Russell KKR  326.0  169.0  192.89\n",
            "2219     Glenn Maxwell PBKS  310.0  179.0  173.18\n",
            "\n",
            "🔹 Average Strike Rate by Year:\n",
            "Year\n",
            "2008    108.486800\n",
            "2009     96.419308\n",
            "2010    109.249477\n",
            "2011    108.823106\n",
            "2012    117.198726\n",
            "2013    107.148418\n",
            "2014    111.220985\n",
            "2015    116.793333\n",
            "2016    115.034118\n",
            "2017    112.154825\n",
            "2018    114.951522\n",
            "2019    109.617500\n",
            "2020    107.364737\n",
            "2021    105.055638\n",
            "2022    120.406235\n",
            "2023    121.501928\n",
            "Name: SR, dtype: float64\n"
          ]
        }
      ]
    },
    {
      "cell_type": "markdown",
      "source": [
        "Numpy Operations\n",
        "1.Concatenation and Splitting"
      ],
      "metadata": {
        "id": "GTOa5Y-O7-54"
      }
    },
    {
      "cell_type": "code",
      "source": [
        "x = np.array([1, 2, 3])\n",
        "y = np.array([4, 5, 6])\n",
        "concatenated = np.concatenate((x, y))\n",
        "print(\"Concatenated arrays:\", concatenated)\n",
        "\n",
        "split_example = np.split(runs_array[:9], 3)\n",
        "print(\"Split array into 3 parts:\", split_example)\n"
      ],
      "metadata": {
        "colab": {
          "base_uri": "https://localhost:8080/"
        },
        "id": "IEQ8jZXo774H",
        "outputId": "0ac98711-2355-4823-828c-f710b08f56ff"
      },
      "execution_count": null,
      "outputs": [
        {
          "output_type": "stream",
          "name": "stdout",
          "text": [
            "Concatenated arrays: [1 2 3 4 5 6]\n",
            "Split array into 3 parts: [array([692., 593., 529.]), array([521., 510., 490.]), array([488., 464., 463.])]\n"
          ]
        }
      ]
    },
    {
      "cell_type": "markdown",
      "source": [
        "2.Universal Functions (Ufuncs)"
      ],
      "metadata": {
        "id": "4zZpxUE88oTj"
      }
    },
    {
      "cell_type": "code",
      "source": [
        "squared = np.square(runs_array[:5])\n",
        "print(\"Squared runs (first 5):\", squared)\n",
        "\n",
        "sqrt_bf = np.sqrt(df['BF'].values[:5])\n",
        "print(\"Square root of Balls Faced (first 5):\", sqrt_bf)\n",
        "\n",
        "log_sr = np.log(df['SR'].values[:5] + 1)  # to avoid log(0)\n",
        "print(\"Log of Strike Rate (first 5):\", log_sr)\n"
      ],
      "metadata": {
        "colab": {
          "base_uri": "https://localhost:8080/"
        },
        "id": "fzCGwuKG8rXt",
        "outputId": "11cd37ad-e74e-4228-8e46-d1863e7b6042"
      },
      "execution_count": null,
      "outputs": [
        {
          "output_type": "stream",
          "name": "stdout",
          "text": [
            "Squared runs (first 5): [478864. 351649. 279841. 271441. 260100.]\n",
            "Square root of Balls Faced (first 5): [21.9317122  20.92844954 19.94993734 19.59591794 15.77973384]\n",
            "Log of Strike Rate (first 5): [4.97576776 4.91544511 4.89716793 4.91756926 5.32695341]\n"
          ]
        }
      ]
    },
    {
      "cell_type": "markdown",
      "source": [
        "3.Broadcasting\n"
      ],
      "metadata": {
        "id": "0mcXDaiH8zDq"
      }
    },
    {
      "cell_type": "code",
      "source": [
        "bonus_runs = runs_array[:5] + 10\n",
        "print(\"Bonus runs (first 5 + 10):\", bonus_runs)\n"
      ],
      "metadata": {
        "colab": {
          "base_uri": "https://localhost:8080/"
        },
        "id": "sqRzEyv682OF",
        "outputId": "ea1daa6c-8812-4405-9423-a2237444fc30"
      },
      "execution_count": null,
      "outputs": [
        {
          "output_type": "stream",
          "name": "stdout",
          "text": [
            "Bonus runs (first 5 + 10): [702. 603. 539. 531. 520.]\n"
          ]
        }
      ]
    },
    {
      "cell_type": "markdown",
      "source": [
        "4.Boolean Masking and Fancy Indexing\n"
      ],
      "metadata": {
        "id": "P7YPXZ7j88Uq"
      }
    },
    {
      "cell_type": "code",
      "source": [
        "mask = df['Runs'] > 500\n",
        "print(\"Players with more than 500 runs:\\n\", df[mask][['Player', 'Runs']].head())\n",
        "\n",
        "print(\"Fancy indexing (rows 0, 2, 4):\\n\", df.iloc[[0, 2, 4]][['Player', 'Runs']])\n"
      ],
      "metadata": {
        "colab": {
          "base_uri": "https://localhost:8080/"
        },
        "id": "cJzaNf3z9AwB",
        "outputId": "cfc85628-f8d5-43fe-f152-107cde0e31fe"
      },
      "execution_count": null,
      "outputs": [
        {
          "output_type": "stream",
          "name": "stdout",
          "text": [
            "Players with more than 500 runs:\n",
            "                Player   Runs\n",
            "0    David Warner SRH  692.0\n",
            "1       KL Rahul PBKS  593.0\n",
            "2  Quinton de Kock MI  529.0\n",
            "3   Shikhar Dhawan DC  521.0\n",
            "4   Andre Russell KKR  510.0\n",
            "Fancy indexing (rows 0, 2, 4):\n",
            "                Player   Runs\n",
            "0    David Warner SRH  692.0\n",
            "2  Quinton de Kock MI  529.0\n",
            "4   Andre Russell KKR  510.0\n"
          ]
        }
      ]
    },
    {
      "cell_type": "markdown",
      "source": [
        "5.Sorting\n"
      ],
      "metadata": {
        "id": "gLgkhqCG9HYv"
      }
    },
    {
      "cell_type": "code",
      "source": [
        "sorted_runs = np.sort(runs_array)[::-1][:5]\n",
        "print(\"Top 5 highest runs:\", sorted_runs)\n",
        "\n",
        "top_sr = df.sort_values(by='SR', ascending=False)[['Player', 'SR']].head()\n",
        "print(\"Top 5 Strike Rates:\\n\", top_sr)\n"
      ],
      "metadata": {
        "colab": {
          "base_uri": "https://localhost:8080/"
        },
        "id": "7GID-4Hp9Jfm",
        "outputId": "8b5743f6-58f9-4d81-fbd0-2224f5ecdfe3"
      },
      "execution_count": null,
      "outputs": [
        {
          "output_type": "stream",
          "name": "stdout",
          "text": [
            "Top 5 highest runs: [973. 890. 863. 848. 735.]\n",
            "Top 5 Strike Rates:\n",
            "                   Player      SR\n",
            "1317    Raiphi Gomez PWI  400.00\n",
            "1155  Prerak Mankad PBKS  400.00\n",
            "1476   Syed Mohammad RCB  400.00\n",
            "2035      Abu Nechim RCB  400.00\n",
            "96      Ishant Sharma DC  333.33\n"
          ]
        }
      ]
    },
    {
      "cell_type": "markdown",
      "source": [
        "6.Structured Arrays\n"
      ],
      "metadata": {
        "id": "py8uGDkw9ROH"
      }
    },
    {
      "cell_type": "code",
      "source": [
        "structured = np.array([\n",
        "    ('Kohli', 530, 141.66),\n",
        "    ('Dhoni', 416, 134.62),\n",
        "    ('Russell', 510, 204.81)\n",
        "], dtype=[('Player', 'U10'), ('Runs', 'i4'), ('SR', 'f4')])\n",
        "\n",
        "high_sr = structured[structured['SR'] > 150]\n",
        "print(\"Players with SR > 150:\\n\", high_sr)\n"
      ],
      "metadata": {
        "colab": {
          "base_uri": "https://localhost:8080/"
        },
        "id": "pXHW8WsC9VON",
        "outputId": "68263aba-88cf-4462-cb64-543bbc6a0f43"
      },
      "execution_count": null,
      "outputs": [
        {
          "output_type": "stream",
          "name": "stdout",
          "text": [
            "Players with SR > 150:\n",
            " [('Russell', 510, 204.81)]\n"
          ]
        }
      ]
    },
    {
      "cell_type": "markdown",
      "source": [
        "Combining Datasets\n",
        "1. Concatenation"
      ],
      "metadata": {
        "id": "GbbCC9Wb9oAM"
      }
    },
    {
      "cell_type": "code",
      "source": [
        "import pandas as pd\n",
        "\n",
        "# Example: two datasets with same columns (part of IPL data)\n",
        "df1 = df.head(5)\n",
        "df2 = df.iloc[5:10]\n",
        "\n",
        "combined_df = pd.concat([df1, df2])\n",
        "print(\"🔗 Concatenated DataFrame (row-wise):\\n\", combined_df)\n"
      ],
      "metadata": {
        "colab": {
          "base_uri": "https://localhost:8080/"
        },
        "id": "f4gRjIIF9z4E",
        "outputId": "39071878-9229-4bc2-d40c-b042c2a58541"
      },
      "execution_count": null,
      "outputs": [
        {
          "output_type": "stream",
          "name": "stdout",
          "text": [
            "🔗 Concatenated DataFrame (row-wise):\n",
            "     POS              Player   Mat  Inns   NO   Runs    HS    Avg     BF  \\\n",
            "0   1.0    David Warner SRH  12.0  12.0  2.0  692.0  100*   69.2  481.0   \n",
            "1   2.0       KL Rahul PBKS  14.0  14.0  3.0  593.0  100*   53.9  438.0   \n",
            "2   3.0  Quinton de Kock MI  16.0  16.0  1.0  529.0    81  35.26  398.0   \n",
            "3   4.0   Shikhar Dhawan DC  16.0  16.0  1.0  521.0   97*  34.73  384.0   \n",
            "4   5.0   Andre Russell KKR  14.0  13.0  4.0  510.0   80*  56.66  249.0   \n",
            "5   6.0    Chris Gayle PBKS  13.0  13.0  1.0  490.0   99*  40.83  319.0   \n",
            "6   7.0     Rishabh Pant DC  16.0  16.0  3.0  488.0   78*  37.53  300.0   \n",
            "7   8.0     Virat Kohli RCB  14.0  14.0  0.0  464.0   100  33.14  328.0   \n",
            "8   9.0     Shreyas Iyer DC  16.0  16.0  1.0  463.0    67  30.86  386.0   \n",
            "9  10.0  Jonny Bairstow SRH  10.0  10.0  2.0  445.0   114  55.62  283.0   \n",
            "\n",
            "       SR  100   50    4s    6s  Year  \n",
            "0  143.86  1.0  8.0  57.0  21.0  2019  \n",
            "1  135.38  1.0  6.0  49.0  25.0  2019  \n",
            "2  132.91  0.0  4.0  45.0  25.0  2019  \n",
            "3  135.67  0.0  5.0  64.0  11.0  2019  \n",
            "4  204.81  0.0  4.0  31.0  52.0  2019  \n",
            "5  153.60  0.0  4.0  45.0  34.0  2019  \n",
            "6  162.66  0.0  3.0  37.0  27.0  2019  \n",
            "7  141.46  1.0  2.0  46.0  13.0  2019  \n",
            "8  119.94  0.0  3.0  41.0  14.0  2019  \n",
            "9  157.24  1.0  2.0  48.0  18.0  2019  \n"
          ]
        }
      ]
    },
    {
      "cell_type": "markdown",
      "source": [
        "2.Merging\n"
      ],
      "metadata": {
        "id": "pvxUsSJG94XX"
      }
    },
    {
      "cell_type": "code",
      "source": [
        "# Example player stats and team mapping\n",
        "team_info = pd.DataFrame({\n",
        "    'Player': ['Kohli', 'Dhoni', 'Russell'],\n",
        "    'Team': ['RCB', 'CSK', 'KKR']\n",
        "})\n",
        "\n",
        "# Merge based on 'Player' column\n",
        "merged_df = pd.merge(df, team_info, on='Player', how='inner')\n",
        "print(\" Merged DataFrame with team info:\\n\", merged_df[['Player', 'Runs', 'Team']].head())\n"
      ],
      "metadata": {
        "colab": {
          "base_uri": "https://localhost:8080/"
        },
        "id": "oRKHwB-K96En",
        "outputId": "134fc1a7-f5bf-4cf8-87b5-eb69a2dbf6f6"
      },
      "execution_count": null,
      "outputs": [
        {
          "output_type": "stream",
          "name": "stdout",
          "text": [
            " Merged DataFrame with team info:\n",
            " Empty DataFrame\n",
            "Columns: [Player, Runs, Team]\n",
            "Index: []\n"
          ]
        }
      ]
    },
    {
      "cell_type": "markdown",
      "source": [
        "3. Joins\n"
      ],
      "metadata": {
        "id": "cEsE8Wpq-BHE"
      }
    },
    {
      "cell_type": "code",
      "source": [
        "# LEFT JOIN: All players from IPL data, match team if available\n",
        "left_joined = pd.merge(df, team_info, on='Player', how='left')\n",
        "print(\"🔗 Left Join (all IPL players + teams if matched):\\n\", left_joined[['Player', 'Team']].head())\n",
        "\n",
        "# OUTER JOIN: All players from both datasets\n",
        "outer_joined = pd.merge(df, team_info, on='Player', how='outer')\n",
        "print(\"🔗 Outer Join (all players from both):\\n\", outer_joined[['Player', 'Team']].tail())\n"
      ],
      "metadata": {
        "colab": {
          "base_uri": "https://localhost:8080/"
        },
        "id": "NJMhbt0h-G5t",
        "outputId": "86414505-1870-4499-8f00-fbb5a22bb424"
      },
      "execution_count": null,
      "outputs": [
        {
          "output_type": "stream",
          "name": "stdout",
          "text": [
            "🔗 Left Join (all IPL players + teams if matched):\n",
            "                Player Team\n",
            "0    David Warner SRH  NaN\n",
            "1       KL Rahul PBKS  NaN\n",
            "2  Quinton de Kock MI  NaN\n",
            "3   Shikhar Dhawan DC  NaN\n",
            "4   Andre Russell KKR  NaN\n",
            "🔗 Outer Join (all players from both):\n",
            "                Player Team\n",
            "2339   Zaheer Khan MI  NaN\n",
            "2340   Zaheer Khan MI  NaN\n",
            "2341  Zaheer Khan RCB  NaN\n",
            "2342  Zaheer Khan RCB  NaN\n",
            "2343  Zaheer Khan RCB  NaN\n"
          ]
        }
      ]
    },
    {
      "cell_type": "markdown",
      "source": [
        "4.Pivot Tables\n"
      ],
      "metadata": {
        "id": "oxBR8cr7-Nwa"
      }
    },
    {
      "cell_type": "code",
      "source": [
        "clean_df = merged_df.dropna(subset=['SR', 'Team'])\n",
        "\n",
        "pivot = clean_df.pivot_table(values='SR', index='Team', aggfunc='mean')\n",
        "\n",
        "print(\"\\n Pivot Table - Average SR by Team:\\n\", pivot)\n"
      ],
      "metadata": {
        "colab": {
          "base_uri": "https://localhost:8080/"
        },
        "id": "kfi4Q8kU-IvC",
        "outputId": "504e8220-5673-4002-e7aa-07770c879e07"
      },
      "execution_count": null,
      "outputs": [
        {
          "output_type": "stream",
          "name": "stdout",
          "text": [
            "\n",
            " Pivot Table - Average SR by Team:\n",
            " Empty DataFrame\n",
            "Columns: []\n",
            "Index: []\n"
          ]
        }
      ]
    },
    {
      "cell_type": "markdown",
      "source": [
        "Groupby\n"
      ],
      "metadata": {
        "id": "q1svP-d9EYoS"
      }
    },
    {
      "cell_type": "code",
      "source": [
        "total_runs_player = df.groupby('Player')['Runs'].sum().sort_values(ascending=False)\n",
        "print(\"🏏 Total Runs by Player:\\n\")\n",
        "print(total_runs_player)\n"
      ],
      "metadata": {
        "colab": {
          "base_uri": "https://localhost:8080/"
        },
        "id": "HuCFcpqcEceG",
        "outputId": "765b863a-70b1-42fb-da6b-12b84ff867cd"
      },
      "execution_count": null,
      "outputs": [
        {
          "output_type": "stream",
          "name": "stdout",
          "text": [
            "🏏 Total Runs by Player:\n",
            "\n",
            "Player\n",
            "Virat Kohli RCB       7263.0\n",
            "Rohit Sharma MI       5041.0\n",
            "Suresh Raina CSK      4687.0\n",
            "MS Dhoni CSK          4508.0\n",
            "AB de Villiers RCB    4491.0\n",
            "                       ...  \n",
            "Murugan Ashwin RPS       0.0\n",
            "Marco Jansen MI          0.0\n",
            "Pradeep Sangwan MI       0.0\n",
            "Abhinav Mukund CSK       0.0\n",
            "Abdur Razzak RCB         0.0\n",
            "Name: Runs, Length: 1150, dtype: float64\n"
          ]
        }
      ]
    },
    {
      "cell_type": "markdown",
      "source": [
        "ADD\n"
      ],
      "metadata": {
        "id": "0nsjF8bcRj_I"
      }
    },
    {
      "cell_type": "code",
      "source": [
        "fours = df['4s'].to_numpy()\n",
        "sixes = df['6s'].to_numpy()\n",
        "total_boundaries = np.add(fours, sixes)\n",
        "\n",
        "print(\" Total boundaries (first 10 players):\", total_boundaries[:10])\n"
      ],
      "metadata": {
        "colab": {
          "base_uri": "https://localhost:8080/"
        },
        "id": "socQQHowEeht",
        "outputId": "1c3aa832-9279-44be-e377-f359d5674cb4"
      },
      "execution_count": null,
      "outputs": [
        {
          "output_type": "stream",
          "name": "stdout",
          "text": [
            " Total boundaries (first 10 players): [78. 74. 70. 75. 83. 79. 64. 59. 55. 66.]\n"
          ]
        }
      ]
    },
    {
      "cell_type": "markdown",
      "source": [
        "argsort\n"
      ],
      "metadata": {
        "id": "0A-0mIRqR1RO"
      }
    },
    {
      "cell_type": "code",
      "source": [
        "sorted_indices = np.argsort(runs_array)\n",
        "print(\" Players sorted by Runs (ascending):\\n\", df.iloc[sorted_indices][['Player', 'Runs']].head(10))\n"
      ],
      "metadata": {
        "colab": {
          "base_uri": "https://localhost:8080/"
        },
        "id": "N6cNn6vpReYN",
        "outputId": "d036c279-6ed8-4184-cac8-f82b61ff0afb"
      },
      "execution_count": null,
      "outputs": [
        {
          "output_type": "stream",
          "name": "stdout",
          "text": [
            " Players sorted by Runs (ascending):\n",
            "                   Player  Runs\n",
            "2340  Shardul Thakur RPS   0.0\n",
            "2339     Imran Tahir RPS   0.0\n",
            "2337      Munaf Patel GL   0.0\n",
            "2336    Chris Jordan SRH   0.0\n",
            "2194     Unmukt Chand MI   0.0\n",
            "692   Ajantha Mendis KKR   0.0\n",
            "693       KP Appanna RCB   0.0\n",
            "694    Lasith Malinga MI   0.0\n",
            "2195      Adam Zampa RPS   0.0\n",
            "2196   Shivil Kaushik GL   0.0\n"
          ]
        }
      ]
    },
    {
      "cell_type": "markdown",
      "source": [
        "Data Visualization:\n",
        "1.Bar plot\n"
      ],
      "metadata": {
        "id": "pulHJjFLRwpS"
      }
    },
    {
      "cell_type": "code",
      "source": [
        "import matplotlib.pyplot as plt\n",
        "import seaborn as sns\n",
        "\n",
        "# Group data by Player and sum up their total Runs\n",
        "top_scorers = df.groupby('Player')['Runs'].sum().sort_values(ascending=False).head(10)\n",
        "\n",
        "# Set the figure size\n",
        "plt.figure(figsize=(10, 6))\n",
        "\n",
        "# Create a horizontal barplot using seaborn\n",
        "sns.barplot(x=top_scorers.values, y=top_scorers.index, palette='magma')\n",
        "\n",
        "# Add labels and title\n",
        "plt.title(\" Top 10 Run Scorers in IPL\")\n",
        "plt.xlabel(\"Total Runs\")\n",
        "plt.ylabel(\"Player\")\n",
        "\n",
        "# Adjust layout and show the plot\n",
        "plt.tight_layout()\n",
        "plt.show()\n"
      ],
      "metadata": {
        "colab": {
          "base_uri": "https://localhost:8080/",
          "height": 714
        },
        "id": "wVlNXlKzSKfv",
        "outputId": "fc1e3883-de70-41f0-e118-4c4133321839"
      },
      "execution_count": null,
      "outputs": [
        {
          "output_type": "stream",
          "name": "stderr",
          "text": [
            "<ipython-input-12-68fd08d089ca>:11: FutureWarning: \n",
            "\n",
            "Passing `palette` without assigning `hue` is deprecated and will be removed in v0.14.0. Assign the `y` variable to `hue` and set `legend=False` for the same effect.\n",
            "\n",
            "  sns.barplot(x=top_scorers.values, y=top_scorers.index, palette='magma')\n"
          ]
        },
        {
          "output_type": "display_data",
          "data": {
            "text/plain": [
              "<Figure size 1000x600 with 1 Axes>"
            ],
            "image/png": "[encoded data removed]"
          },
          "metadata": {}
        }
      ]
    },
    {
      "cell_type": "markdown",
      "source": [
        "2.Line plot\n"
      ],
      "metadata": {
        "id": "cfoWllMnSv-s"
      }
    },
    {
      "cell_type": "code",
      "source": [
        "# Group by Year and sum up the total Runs scored in each year\n",
        "yearly_runs = df.groupby('Year')['Runs'].sum().reset_index()\n",
        "\n",
        "# Set the figure size\n",
        "plt.figure(figsize=(10, 5))\n",
        "\n",
        "# Create a line plot showing how total runs changed each year\n",
        "sns.lineplot(data=yearly_runs, x='Year', y='Runs', marker='o', color='green')\n",
        "\n",
        "# Add title and labels\n",
        "plt.title(\"📅 Total Runs Scored Each Year in IPL\")\n",
        "plt.xlabel(\"Year\")\n",
        "plt.ylabel(\"Total Runs\")\n",
        "plt.grid(True)\n",
        "\n",
        "# Adjust layout and show the plot\n",
        "plt.tight_layout()\n",
        "plt.show()\n"
      ],
      "metadata": {
        "colab": {
          "base_uri": "https://localhost:8080/",
          "height": 596
        },
        "id": "QVeBc_VWS0KT",
        "outputId": "ec4d22bf-4e70-4a91-9c34-968a0735177d"
      },
      "execution_count": null,
      "outputs": [
        {
          "output_type": "stream",
          "name": "stderr",
          "text": [
            "<ipython-input-57-8de4cff86e4b>:17: UserWarning: Glyph 128197 (\\N{CALENDAR}) missing from font(s) DejaVu Sans.\n",
            "  plt.tight_layout()\n",
            "/usr/local/lib/python3.11/dist-packages/IPython/core/pylabtools.py:151: UserWarning: Glyph 128197 (\\N{CALENDAR}) missing from font(s) DejaVu Sans.\n",
            "  fig.canvas.print_figure(bytes_io, **kw)\n"
          ]
        },
        {
          "output_type": "display_data",
          "data": {
            "text/plain": [
              "<Figure size 1000x500 with 1 Axes>"
            ],
            "image/png": "[encoded data removed]"
          },
          "metadata": {}
        }
      ]
    },
    {
      "cell_type": "markdown",
      "source": [
        "3.Pie Chart\n"
      ],
      "metadata": {
        "id": "PwEycrGLTNM1"
      }
    },
    {
      "cell_type": "code",
      "source": [
        "# Top players with most centuries (100s)\n",
        "top_100s = df.groupby('Player')['100'].sum().sort_values(ascending=False).head(5)\n",
        "\n",
        "# Plot pie chart\n",
        "plt.figure(figsize=(7, 7))\n",
        "plt.pie(top_100s, labels=top_100s.index, autopct='%1.1f%%', startangle=140, colors=sns.color_palette('pastel'))\n",
        "\n",
        "plt.title(\"🎯 Top 5 Players with Most Centuries (100s)\")\n",
        "plt.axis('equal')  # Equal aspect ratio for perfect circle\n",
        "plt.show()\n"
      ],
      "metadata": {
        "colab": {
          "base_uri": "https://localhost:8080/",
          "height": 653
        },
        "id": "wq8l6Ll4S118",
        "outputId": "ee766699-f809-43c4-e5cd-f4d9dc283ad0"
      },
      "execution_count": null,
      "outputs": [
        {
          "output_type": "stream",
          "name": "stderr",
          "text": [
            "/usr/local/lib/python3.11/dist-packages/IPython/core/pylabtools.py:151: UserWarning: Glyph 127919 (\\N{DIRECT HIT}) missing from font(s) DejaVu Sans.\n",
            "  fig.canvas.print_figure(bytes_io, **kw)\n"
          ]
        },
        {
          "output_type": "display_data",
          "data": {
            "text/plain": [
              "<Figure size 700x700 with 1 Axes>"
            ],
            "image/png": "[encoded data removed]"
          },
          "metadata": {}
        }
      ]
    },
    {
      "cell_type": "markdown",
      "source": [
        "4. Scatter plot"
      ],
      "metadata": {
        "id": "JzcCfj_EUSCI"
      }
    },
    {
      "cell_type": "code",
      "source": [
        "import pandas as pd\n",
        "import numpy as np\n",
        "import matplotlib.pyplot as plt\n",
        "import seaborn as sns\n",
        "\n",
        "# Make a copy of the relevant columns\n",
        "scatter_df = df[['Avg', 'SR']].copy()\n",
        "\n",
        "# Convert to numeric (force errors to NaN)\n",
        "scatter_df['Avg'] = pd.to_numeric(scatter_df['Avg'], errors='coerce')\n",
        "scatter_df['SR'] = pd.to_numeric(scatter_df['SR'], errors='coerce')\n",
        "\n",
        "# Drop rows with missing or invalid values\n",
        "scatter_df = scatter_df.dropna()\n",
        "\n",
        "# Plot the scatter plot\n",
        "plt.figure(figsize=(8, 5))\n",
        "sns.scatterplot(data=scatter_df, x='Avg', y='SR', color='darkblue')\n",
        "\n",
        "plt.title(\"🎯 Batting Average vs. Strike Rate\")\n",
        "plt.xlabel(\"Batting Average\")\n",
        "plt.ylabel(\"Strike Rate\")\n",
        "plt.grid(True)\n",
        "plt.tight_layout()\n",
        "plt.show()\n"
      ],
      "metadata": {
        "colab": {
          "base_uri": "https://localhost:8080/",
          "height": 596
        },
        "id": "RKH4UgcZTQHI",
        "outputId": "5ff351a0-7fe8-46cd-b5da-96bb8512571d"
      },
      "execution_count": null,
      "outputs": [
        {
          "output_type": "stream",
          "name": "stderr",
          "text": [
            "<ipython-input-64-f95fd3d6053a>:24: UserWarning: Glyph 127919 (\\N{DIRECT HIT}) missing from font(s) DejaVu Sans.\n",
            "  plt.tight_layout()\n",
            "/usr/local/lib/python3.11/dist-packages/IPython/core/pylabtools.py:151: UserWarning: Glyph 127919 (\\N{DIRECT HIT}) missing from font(s) DejaVu Sans.\n",
            "  fig.canvas.print_figure(bytes_io, **kw)\n"
          ]
        },
        {
          "output_type": "display_data",
          "data": {
            "text/plain": [
              "<Figure size 800x500 with 1 Axes>"
            ],
            "image/png": "[encoded data removed]"
          },
          "metadata": {}
        }
      ]
    }
  ]
}